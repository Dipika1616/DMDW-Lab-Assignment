{
  "nbformat": 4,
  "nbformat_minor": 0,
  "metadata": {
    "colab": {
      "name": "Assignment 1.ipynb",
      "provenance": [],
      "collapsed_sections": [],
      "authorship_tag": "ABX9TyOVpWTGz0gQl5Qshx6V6ODi",
      "include_colab_link": true
    },
    "kernelspec": {
      "name": "python3",
      "display_name": "Python 3"
    },
    "language_info": {
      "name": "python"
    }
  },
  "cells": [
    {
      "cell_type": "markdown",
      "metadata": {
        "id": "view-in-github",
        "colab_type": "text"
      },
      "source": [
        "<a href=\"https://colab.research.google.com/github/Dipika1616/DMDW-Lab-Assignment/blob/main/Assignment_1.ipynb\" target=\"_parent\"><img src=\"https://colab.research.google.com/assets/colab-badge.svg\" alt=\"Open In Colab\"/></a>"
      ]
    },
    {
      "cell_type": "code",
      "metadata": {
        "colab": {
          "base_uri": "https://localhost:8080/"
        },
        "id": "CREBuvVu0ypZ",
        "outputId": "152f92f1-a46e-4900-ccf1-2866eae40643"
      },
      "source": [
        "l=[1,2,3,4,5]\n",
        "sum=0\n",
        "s=len(l)\n",
        "for i in range(s):\n",
        "  sum=sum+l[i]\n",
        "mean =sum/s\n",
        "print(\"mean is\",mean)\n"
      ],
      "execution_count": null,
      "outputs": [
        {
          "output_type": "stream",
          "name": "stdout",
          "text": [
            "mean is 3.0\n"
          ]
        }
      ]
    },
    {
      "cell_type": "code",
      "metadata": {
        "colab": {
          "base_uri": "https://localhost:8080/"
        },
        "id": "i3LrHpZC61Ig",
        "outputId": "47cec7f6-40d5-41e0-bf84-c137cfc8e0b0"
      },
      "source": [
        "l=[1,4,5,6,7]\n",
        "s=len(l)\n",
        "b=s//2\n",
        "sum=0\n",
        "if (s%2 == 0):\n",
        "  sum=l[b]+l[b+1]\n",
        "  s2= sum/2\n",
        "  print( 'Median is',s2)\n",
        "else:\n",
        "  print('Median is',l[b])  "
      ],
      "execution_count": 1,
      "outputs": [
        {
          "output_type": "stream",
          "name": "stdout",
          "text": [
            "Median is 5\n"
          ]
        }
      ]
    },
    {
      "cell_type": "markdown",
      "metadata": {
        "id": "NOSAkTY21hp2"
      },
      "source": [
        "Mode of the list"
      ]
    },
    {
      "cell_type": "code",
      "metadata": {
        "colab": {
          "base_uri": "https://localhost:8080/"
        },
        "id": "igWBI68K_pL-",
        "outputId": "a4540d4d-4b47-47d0-dbad-739819a13db6"
      },
      "source": [
        "l=[3,3,6,2,16,4,16,16]\n",
        "result=max(l,key=l.count)\n",
        "print(result)"
      ],
      "execution_count": 2,
      "outputs": [
        {
          "output_type": "stream",
          "name": "stdout",
          "text": [
            "16\n"
          ]
        }
      ]
    },
    {
      "cell_type": "code",
      "metadata": {
        "colab": {
          "base_uri": "https://localhost:8080/"
        },
        "id": "gPvLs39kA_P7",
        "outputId": "d31a5a03-7273-43c1-eee0-5238c9452410"
      },
      "source": [
        "l=[2,3,5,6,8,13]\n",
        "l.sort()\n",
        "s=l[1]\n",
        "h=l[len(l)-1]\n",
        "print(\"The second smallest number is\",s)\n",
        "print(\"The second highest number is\",h)\n"
      ],
      "execution_count": null,
      "outputs": [
        {
          "output_type": "stream",
          "name": "stdout",
          "text": [
            "The second smallest number is 3\n",
            "The second highest number is 13\n"
          ]
        }
      ]
    }
  ]
}